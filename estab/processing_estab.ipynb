{
 "cells": [
  {
   "cell_type": "code",
   "execution_count": 10,
   "id": "1c83273b-30b9-46bf-99d0-ccd4fe8641f1",
   "metadata": {},
   "outputs": [
    {
     "name": "stdout",
     "output_type": "stream",
     "text": [
      "0\n"
     ]
    }
   ],
   "source": [
    "import pandas as pd\n",
    "import re\n",
    "from pycpfcnpj import cpfcnpj as pj\n",
    "\n",
    "df_estab = pd.read_csv('estab-part-00.csv')\n",
    "\n",
    "#deletado colunas apos analise, verificado que existem dados com mais de 10% ausentes\n",
    "df_estab = df_estab.drop(['cod_situacao_especial', 'data_situacao_especial', 'fax', 'dddfax', 'telefone2', 'ddd2', 'telefone1', 'ddd1', 'end_complemento', 'end_cod_pais', 'end_nome_cidade_no_exterior', 'nome_fantasia'], axis=1)\n",
    "\n",
    "# adicionando 0 a esquerda para validacao de cnpj\n",
    "df_estab['cnpj_ordem'] = df_estab['cnpj_ordem'].apply(lambda x: str(x).zfill(4))\n",
    "df_estab.insert(0, 'cnpj','')\n",
    "df_estab['cnpj'] = df_estab[['cnpj_basico', 'cnpj_ordem', 'cnpj_dv']].astype(str).apply(''.join, axis=1)\n",
    "\n",
    "#exluindo cnpjs com formato incorreto e filtrando apenas os validados\n",
    "df_estab = df_estab[df_estab['cnpj'].map(len) == 14].reset_index(drop=True)\n",
    "df_estab = df_estab[df_estab['cnpj'].map(lambda x: pj.validate(x))]\n",
    "\n",
    "#separando os codigos cnae secundarios a cada pipe ou virgula sem um limite de quantidade retornando uma series lista de str\n",
    "df_estab['cod_cnae_fiscal_secundaria'] = df_estab['cod_cnae_fiscal_secundaria'].str.split('[|,]', expand=False)\n",
    "#transformando a lista de cnae para cada linha\n",
    "df_estab = df_estab.explode('cod_cnae_fiscal_secundaria').reset_index(drop=True)\n",
    "\n",
    "#ajuste email - caracteres minusculos e com underscore\n",
    "df_estab['email'] = df_estab['email'].map(lambda x: (str(x).lower().replace('-','_').replace(\"'\", \"\") if pd.notnull(x) else x))\n",
    "\n",
    "#ajuste cep, removendo dois ultimos caracteres(.0), adicionado 0 a esquerda quando neceessario\n",
    "df_estab['end_cep'] = df_estab['end_cep'].apply(lambda x: str(x)[:-2] if pd.notnull(x) else x)\n",
    "df_estab['end_cep'] = df_estab['end_cep'].apply(lambda x: str(x).zfill(8) if pd.notnull(x) else x)\n",
    "\n",
    "#padronizando para maiusculo\n",
    "df_estab['end_uf'] = df_estab['end_uf'].apply(lambda x: str(x).upper() if pd.notnull(x) else x)\n",
    "\n",
    "#criando tabela aux com cnpj basico e cnae secundario\n",
    "df_cnae_secondary = df_estab[['cnpj_basico', 'cod_cnae_fiscal_secundaria']]\n",
    "\n",
    "#deletando coluna cnae secundario da tabela estab\n",
    "df_estab = df_estab.drop('cod_cnae_fiscal_secundaria', axis=1)\n",
    "\n",
    "#excluindo linhas duplicadas\n",
    "df_estab = df_estab.drop_duplicates()\n",
    "\n",
    "#criando planilha csv establishment\n",
    "df_estab['cnpj_basico'] = df_estab['cnpj_basico'].astype('str')\n",
    "df_estab.to_csv('establishment.csv')\n",
    "\n",
    "# # alterando valores 'nulo' e 'em branco' para NaN\n",
    "df_cnae_secondary.loc[df_cnae_secondary.cod_cnae_fiscal_secundaria == 'nulo', 'cod_cnae_fiscal_secundaria'] = float(\"NaN\")\n",
    "df_cnae_secondary.loc[df_cnae_secondary.cod_cnae_fiscal_secundaria == 'em branco', 'cod_cnae_fiscal_secundaria'] = float(\"NaN\")\n",
    "\n",
    "#ler tabela com codigos cnae baixada da receita para validação\n",
    "cnae_reports = pd.read_excel('tabela-cnae.xlsx')\n",
    "\n",
    "#remover .0 dos cod cnae da tabela de codigos\n",
    "cnae_reports['CNAE'] = cnae_reports['CNAE'].apply(lambda x: str(x)[:-2] if pd.notnull(x) else x)\n",
    "#remover 0 a esquerda do dataframe dos codigos cnae secundarios\n",
    "df_cnae_secondary['cod_cnae_fiscal_secundaria'] = df_cnae_secondary['cod_cnae_fiscal_secundaria'].apply(lambda x: re.sub('^(0+)', '', str(x)) if pd.notnull(x) else x)\n",
    "\n",
    "#verificado que existiam codigos cnae com valores inexistentes, alterado para Not a Number\n",
    "df_cnae_secondary['cod_cnae_fiscal_secundaria'].loc[df_cnae_secondary['cod_cnae_fiscal_secundaria'] == '1111111'] = float(\"NaN\")\n",
    "df_cnae_secondary['cod_cnae_fiscal_secundaria'].loc[df_cnae_secondary['cod_cnae_fiscal_secundaria'] == '999999'] = float(\"NaN\")\n",
    "df_cnae_secondary['cod_cnae_fiscal_secundaria'].loc[df_cnae_secondary['cod_cnae_fiscal_secundaria'] == '888888'] = float(\"NaN\")\n",
    "\n",
    "\n",
    "#validação de codigos cnae, count para verificar quantos estao invalidos \n",
    "count = 0\n",
    "for idx, cnae in enumerate(df_cnae_secondary['cod_cnae_fiscal_secundaria']):\n",
    "    if not str(cnae) in cnae_reports['CNAE'].values and pd.notnull(cnae):\n",
    "        #cnae nao encontrado na tabela extraida do site, mas apos pesquisa, é um cnae valido\n",
    "        if str(cnae) == '3317102': continue\n",
    "        \n",
    "        df_cnae_secondary['cod_cnae_fiscal_secundaria'][idx] = float(\"NaN\")\n",
    "        count += 1\n",
    "print(count)\n",
    "\n",
    "#criando planilha cnae secundario\n",
    "df_cnae_secondary['cnpj_basico'] = df_cnae_secondary['cnpj_basico'].astype('str')\n",
    "df_cnae_secondary.to_csv('cnae_secondary.csv')"
   ]
  },
  {
   "cell_type": "markdown",
   "id": "e465a6fd-b1a7-4ed1-be56-300c979bf506",
   "metadata": {},
   "source": [
    "### VERIFICAR QUAIS CNAE SAO INVALIDOS"
   ]
  },
  {
   "cell_type": "code",
   "execution_count": null,
   "id": "9d64cc70-2a20-4219-b6a7-4b7ac9f88e77",
   "metadata": {},
   "outputs": [],
   "source": [
    "import pycep_correios\n",
    "endereco = pycep_correios.get_address_from_cep('82650520')"
   ]
  },
  {
   "cell_type": "markdown",
   "id": "a749134e-85c2-4f54-88d0-277a0c308944",
   "metadata": {},
   "source": [
    "Para descartar colunas nas quais mais de 10% dos valores estão ausentes:\n",
    "\n",
    "df.dropna(thresh=len(df)*0.9, axis=1)"
   ]
  }
 ],
 "metadata": {
  "kernelspec": {
   "display_name": "Python 3 (ipykernel)",
   "language": "python",
   "name": "python3"
  },
  "language_info": {
   "codemirror_mode": {
    "name": "ipython",
    "version": 3
   },
   "file_extension": ".py",
   "mimetype": "text/x-python",
   "name": "python",
   "nbconvert_exporter": "python",
   "pygments_lexer": "ipython3",
   "version": "3.9.12"
  }
 },
 "nbformat": 4,
 "nbformat_minor": 5
}
